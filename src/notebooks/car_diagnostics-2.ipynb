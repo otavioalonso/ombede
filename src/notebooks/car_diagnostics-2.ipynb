{
 "cells": [
  {
   "cell_type": "code",
   "execution_count": 85,
   "id": "345ff3f2-2224-4fdc-bedb-8088e1902314",
   "metadata": {},
   "outputs": [],
   "source": [
    "import numpy as np\n",
    "import pint\n",
    "\n",
    "u = pint.UnitRegistry(autoconvert_offset_to_baseunit=True)\n",
    "\n",
    "class ombede:\n",
    "    \n",
    "    GEAR_RADII = {\n",
    "        0: 0.0  * u.cm,\n",
    "        1: 10.0 * u.cm,\n",
    "        2: 18.0 * u.cm,\n",
    "        3: 28.5 * u.cm,\n",
    "        4: 40.0 * u.cm,\n",
    "        5: 50.0 * u.cm,\n",
    "    }\n",
    "    \n",
    "    ENGINE_DISPLACEMENT = 1.0 * u.l\n",
    "    VOLUMETRIC_EFFICIENCY = 0.75\n",
    "\n",
    "    default_params = {\n",
    "        \"COOLANT_TEMP\":             96.0 * u.degC,\n",
    "        \"INTAKE_PRESSURE\":          23.0 * u.kPa,\n",
    "        \"RPM\":                      2222.0 / u.min,\n",
    "        \"SPEED\":                    38.0 * u.km/u.hour,\n",
    "        \"TIMING_ADVANCE\":           16.0 * u.deg,\n",
    "        \"INTAKE_TEMP\":              40.0 * u.degC,\n",
    "        \"FUEL_LEVEL\":               100.0,\n",
    "        \"DISTANCE_SINCE_DTC_CLEAR\": 3676.0 * u.km,\n",
    "        \"CATALYST_TEMP_B1S1\":       466.29998779296875 * u.celsius,\n",
    "        \"ABSOLUTE_LOAD\":            13.72549057006836,\n",
    "        \"COMMANDED_EQUIV_RATIO\":    89.9993896484375,\n",
    "        \"THROTTLE_ACTUATOR\":        9.803921699523926,\n",
    "        'ETHANOL_PERCENT':          25.0,\n",
    "    }\n",
    "    \n",
    "    dependencies = {\n",
    "        'GEAR_RADIUS': ['SPEED', 'RPM'],\n",
    "        'GEAR': ['GEAR_RADIUS'],\n",
    "        'MAF_A': ['ABSOLUTE_LOAD', 'RPM'],\n",
    "        'MAF_B': ['INTAKE_PRESSURE', 'INTAKE_TEMP', 'RPM'],\n",
    "        'AFR': ['COMMANDED_EQUIV_RATIO', 'ETHANOL_PERCENT'],\n",
    "        'FUEL_FLOW': ['AFR', 'MAF_A'],\n",
    "        'FUEL_EFFICIENCY': ['SPEED', 'FUEL_FLOW'],\n",
    "    }\n",
    "    \n",
    "    data = {}\n",
    "    \n",
    "    def _solve_dependencies(self, quant, level=np.inf):\n",
    "        \"\"\" Replace quantity in list by its dependency tree \"\"\"\n",
    "        if quant in self.dependencies.keys() and level > 0:\n",
    "            return [[self._solve_dependencies(d,level=level-2) for d in self.dependencies[dep]] if (dep in self.dependencies.keys() and level > 1) else dep for dep in self.dependencies[quant]]\n",
    "        else:\n",
    "            return quant\n",
    "        \n",
    "    def _flatten(self, x):\n",
    "        \"\"\" Flatten irregular list of lists \"\"\"\n",
    "        if type(x) == list:\n",
    "            return [a for i in x for a in self._flatten(i)]\n",
    "        else:\n",
    "            return [x]\n",
    "    \n",
    "    def get_dependencies(self, quantities, level=np.inf):\n",
    "        \"\"\" Return flat list of unique dependencies.\n",
    "            The deepest level np.inf corresponds to quantities to be read from the OBD interface. \"\"\"\n",
    "        return list(set(self._flatten([self._solve_dependencies(q, level=level) for q in quantities])))\n",
    "    \n",
    "    def request(self, quantities):\n",
    "        # Get data from OBD interface\n",
    "        self.data = {k:self.default_params[k] for k in self.get_dependencies(quantities)}\n",
    "        \n",
    "        # Compute quantities from lower to higher in the dependency tree levels\n",
    "        for level in np.arange(3,-1,-1):\n",
    "            self.compute_quantities(self.get_dependencies(quantities, level=level))\n",
    "            \n",
    "        return {k:self.data[k] for k in quantities}\n",
    "    \n",
    "    def compute_quantities(self, quantities):\n",
    "        \n",
    "        if 'GEAR_RADIUS' in quantities:\n",
    "            self.compute_gear_radius()\n",
    "            \n",
    "        if 'GEAR' in quantities:\n",
    "            self.compute_gear()\n",
    "            \n",
    "        if 'MAF_A' in quantities:\n",
    "            self.compute_maf_a()\n",
    "            \n",
    "        if 'MAF_B' in quantities:\n",
    "            self.compute_maf_b()\n",
    "            \n",
    "        if 'AFR' in quantities:\n",
    "            self.compute_afr()\n",
    "            \n",
    "        if 'FUEL_FLOW' in quantities:\n",
    "            self.compute_fuel_flow()\n",
    "            \n",
    "        if 'FUEL_EFFICIENCY' in quantities:\n",
    "            self.compute_fuel_efficiency()\n",
    "            \n",
    "    def compute_gear_radius(self):\n",
    "        self.data['GEAR_RADIUS'] = (self.data['SPEED']/self.data['RPM']).to(u.cm)\n",
    "        \n",
    "    def compute_gear(self):\n",
    "        diff = 100.*u.cm\n",
    "        self.data['GEAR'] = None\n",
    "        for k in self.GEAR_RADII.keys():\n",
    "            new_diff = np.abs(self.GEAR_RADII[k] - self.data['GEAR_RADIUS'])\n",
    "            if  new_diff < diff:\n",
    "                diff = new_diff\n",
    "                self.data['GEAR'] = k\n",
    "                \n",
    "    def compute_maf_a(self):\n",
    "        # mass_air_flow [g/s] = 1.184 [g/l] * displacement [l/intake stroke] * load_abs / 100 * engine_speed [r/min] / 2 [r/intake stroke] / 60 [sec/min]\n",
    "        self.data['MAF_A'] = ((1.184 * u.g/u.l) * self.ENGINE_DISPLACEMENT * self.data['ABSOLUTE_LOAD']/100 * self.data['RPM'] / 2).to('g/s')\n",
    "\n",
    "    def compute_maf_b(self):\n",
    "        # MAF [g/s] = (intake pressure/intake temp) * (molecular mass of air/gas constant for air) * (RPM/60) * (engine displacement/2) * volumetric efficiency\n",
    "        self.data['MAF_B'] = (self.data['INTAKE_PRESSURE'] / self.data['INTAKE_TEMP'].to('kelvin') * ((28.97 * u.g/u.mol)/(8.3144598 * u.joules/u.K/u.mol)) * self.data['RPM'] * self.ENGINE_DISPLACEMENT/2 * self.VOLUMETRIC_EFFICIENCY).to('g/s')\n",
    "\n",
    "    def compute_afr(self):\n",
    "        # for now, assuming commanded EQ = actual\n",
    "        self.data['AFR'] = u.g/u.ml * (14.7  + (9.0  - 14.7) * self.data['ETHANOL_PERCENT']/100) * self.data['COMMANDED_EQUIV_RATIO']/100\n",
    "\n",
    "    def compute_fuel_flow(self):\n",
    "        self.data['FUEL_FLOW'] = (self.data['MAF_A'] / self.data['AFR'] / 0.800).to('l/hour')\n",
    "\n",
    "    def compute_fuel_efficiency(self):\n",
    "        self.data['FUEL_EFFICIENCY'] = (self.data['SPEED'] / self.data['FUEL_FLOW']).to('km/l')"
   ]
  },
  {
   "cell_type": "code",
   "execution_count": 86,
   "id": "c92851e6-c368-4bc0-85ac-52bab1214074",
   "metadata": {},
   "outputs": [
    {
     "data": {
      "text/plain": [
       "{'MAF_A': <Quantity(3.0091399512736006, 'gram / second')>,\n",
       " 'MAF_B': <Quantity(3.5539715694111655, 'gram / second')>,\n",
       " 'GEAR_RADIUS': <Quantity(28.502850285028504, 'centimeter')>,\n",
       " 'FUEL_FLOW': <Quantity(1.1333937319956089, 'liter / hour')>,\n",
       " 'FUEL_EFFICIENCY': <Quantity(33.527624979089985, 'kilometer / liter')>}"
      ]
     },
     "execution_count": 86,
     "metadata": {},
     "output_type": "execute_result"
    }
   ],
   "source": [
    "ombd = ombede()\n",
    "ombd.request(['MAF_A', 'MAF_B', 'GEAR_RADIUS', 'FUEL_FLOW', 'FUEL_EFFICIENCY'])"
   ]
  },
  {
   "cell_type": "code",
   "execution_count": 123,
   "id": "ef786846-1640-4e10-bf76-df52716736f9",
   "metadata": {},
   "outputs": [],
   "source": [
    "import obd\n",
    "obd.logger.setLevel(obd.logging.DEBUG)"
   ]
  },
  {
   "cell_type": "code",
   "execution_count": 128,
   "id": "e3b4992c-bc9a-452e-b64b-a47a8d220bf7",
   "metadata": {},
   "outputs": [
    {
     "name": "stderr",
     "output_type": "stream",
     "text": [
      "[obd.obd] ======================= python-OBD (v0.7.1) =======================\n",
      "[obd.obd] Explicit port defined\n",
      "[obd.elm327] Initializing ELM327: PORT=/dev/rfcomm0 BAUD=auto PROTOCOL=auto\n",
      "[obd.elm327] [Errno 13] could not open port /dev/rfcomm0: [Errno 13] Permission denied: '/dev/rfcomm0'\n",
      "[obd.obd] Closing connection\n",
      "[obd.obd] Cannot load commands: No connection to car\n",
      "[obd.obd] ===================================================================\n"
     ]
    }
   ],
   "source": [
    "connection = obd.OBD('/dev/rfcomm0') # auto-connects to USB or RF port"
   ]
  },
  {
   "cell_type": "code",
   "execution_count": 119,
   "id": "ad2f8187-1bf9-475a-9edb-22e0efb47238",
   "metadata": {
    "collapsed": true,
    "jupyter": {
     "outputs_hidden": true
    },
    "tags": []
   },
   "outputs": [
    {
     "name": "stderr",
     "output_type": "stream",
     "text": [
      "[obd.obd] No OBD-II adapters found\n",
      "[obd.obd] Cannot load commands: No connection to car\n",
      "[obd.obd] Query failed, no connection available\n"
     ]
    },
    {
     "name": "stdout",
     "output_type": "stream",
     "text": [
      "None\n"
     ]
    },
    {
     "ename": "AttributeError",
     "evalue": "'NoneType' object has no attribute 'to'",
     "output_type": "error",
     "traceback": [
      "\u001b[0;31m---------------------------------------------------------------------------\u001b[0m",
      "\u001b[0;31mAttributeError\u001b[0m                            Traceback (most recent call last)",
      "\u001b[0;32m<ipython-input-119-861f24174bf8>\u001b[0m in \u001b[0;36m<module>\u001b[0;34m\u001b[0m\n\u001b[1;32m      8\u001b[0m \u001b[0;34m\u001b[0m\u001b[0m\n\u001b[1;32m      9\u001b[0m \u001b[0mprint\u001b[0m\u001b[0;34m(\u001b[0m\u001b[0mresponse\u001b[0m\u001b[0;34m.\u001b[0m\u001b[0mvalue\u001b[0m\u001b[0;34m)\u001b[0m \u001b[0;31m# returns unit-bearing values thanks to Pint\u001b[0m\u001b[0;34m\u001b[0m\u001b[0;34m\u001b[0m\u001b[0m\n\u001b[0;32m---> 10\u001b[0;31m \u001b[0mprint\u001b[0m\u001b[0;34m(\u001b[0m\u001b[0mresponse\u001b[0m\u001b[0;34m.\u001b[0m\u001b[0mvalue\u001b[0m\u001b[0;34m.\u001b[0m\u001b[0mto\u001b[0m\u001b[0;34m(\u001b[0m\u001b[0;34m\"mph\"\u001b[0m\u001b[0;34m)\u001b[0m\u001b[0;34m)\u001b[0m \u001b[0;31m# user-friendly unit conversions\u001b[0m\u001b[0;34m\u001b[0m\u001b[0;34m\u001b[0m\u001b[0m\n\u001b[0m",
      "\u001b[0;31mAttributeError\u001b[0m: 'NoneType' object has no attribute 'to'"
     ]
    }
   ],
   "source": [
    "import obd\n",
    "\n",
    "connection = obd.OBD() # auto-connects to USB or RF port\n",
    "\n",
    "cmd = obd.commands.SPEED # select an OBD command (sensor)\n",
    "\n",
    "response = connection.query(cmd) # send the command, and parse the response\n",
    "\n",
    "print(response.value) # returns unit-bearing values thanks to Pint\n",
    "print(response.value.to(\"mph\")) # user-friendly unit conversions"
   ]
  }
 ],
 "metadata": {
  "kernelspec": {
   "display_name": "Python 3",
   "language": "python",
   "name": "python3"
  },
  "language_info": {
   "codemirror_mode": {
    "name": "ipython",
    "version": 3
   },
   "file_extension": ".py",
   "mimetype": "text/x-python",
   "name": "python",
   "nbconvert_exporter": "python",
   "pygments_lexer": "ipython3",
   "version": "3.9.9"
  }
 },
 "nbformat": 4,
 "nbformat_minor": 5
}
